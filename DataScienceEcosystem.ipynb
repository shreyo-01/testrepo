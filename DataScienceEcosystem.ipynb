{
 "cells": [
  {
   "cell_type": "markdown",
   "id": "6a97b099-8930-4157-8e5c-70dd2a574189",
   "metadata": {},
   "source": [
    "# Data Science Tools and Ecosystem"
   ]
  },
  {
   "cell_type": "markdown",
   "id": "52869ba7-e7c5-44f2-8a7b-b6baaf06a9b5",
   "metadata": {},
   "source": [
    "# In this notebook, Data Science Tools and Ecosystem are summarized."
   ]
  },
  {
   "cell_type": "markdown",
   "id": "5e2aee48-ffde-45a6-97f7-55f9490196f6",
   "metadata": {},
   "source": [
    "## Some of the popular languages that Data Scientists use are: ##\n",
    "1. Python\n",
    "2. JAVA\n",
    "3. R\n",
    "4. C++"
   ]
  },
  {
   "cell_type": "markdown",
   "id": "c32fbd3a-8156-4e71-9640-8542d49a97fb",
   "metadata": {},
   "source": [
    "## Objectives: ##\n",
    "- List popular languages for data science\n",
    "- List popular libraries for data science\n",
    "- List popular data science tools\n",
    "- Execute arithmatic expressions and get the output"
   ]
  },
  {
   "cell_type": "markdown",
   "id": "589ee733-b62e-4aaa-a967-b320c653f8bc",
   "metadata": {},
   "source": [
    "## Some of the commonly used libraries used by Data Scientists include: ##\n",
    "1. Numpy\n",
    "2. pandas\n",
    "3. Matplotlib\n",
    "4. Seaborn"
   ]
  },
  {
   "cell_type": "markdown",
   "id": "835e49a2-fa83-499f-b893-03d55af115f2",
   "metadata": {},
   "source": [
    "| Data Science Tools |\n",
    "| ------------------ |\n",
    "| Jupyter Notebook |\n",
    "| R Studio |\n",
    "| Apache Zeppelin |"
   ]
  },
  {
   "cell_type": "markdown",
   "id": "ea839749-a72c-42f3-ada4-9ed522f60cb1",
   "metadata": {},
   "source": [
    "### Below are a few examples of evaluating arithmetic expressions in Python ###"
   ]
  },
  {
   "cell_type": "code",
   "execution_count": 10,
   "id": "d90f0bcc-9941-48bf-96b9-31e7a8d67604",
   "metadata": {},
   "outputs": [
    {
     "name": "stdout",
     "output_type": "stream",
     "text": [
      "17\n"
     ]
    }
   ],
   "source": [
    "#This a simple arithmetic expression to mutiply then add integers\n",
    "z = (3*4)+5\n",
    "print(z)"
   ]
  },
  {
   "cell_type": "code",
   "execution_count": 12,
   "id": "9a97cd75-1aff-4e4f-934c-ddbec2cc9158",
   "metadata": {},
   "outputs": [
    {
     "data": {
      "text/plain": [
       "3.3333333333333335"
      ]
     },
     "execution_count": 12,
     "metadata": {},
     "output_type": "execute_result"
    }
   ],
   "source": [
    "#This will convert 200 minutes to hours by diving by 60\n",
    "hrs = 200/60\n",
    "hrs"
   ]
  },
  {
   "cell_type": "markdown",
   "id": "ae2f4fb5-f1d9-4acc-80a9-7460b73266eb",
   "metadata": {},
   "source": [
    "## Author ##\n",
    "Shreyashree Dey"
   ]
  },
  {
   "cell_type": "code",
   "execution_count": null,
   "id": "c42d6056-e4d9-43c9-862a-42cfdb806f5c",
   "metadata": {},
   "outputs": [],
   "source": []
  }
 ],
 "metadata": {
  "kernelspec": {
   "display_name": "Python 3 (ipykernel)",
   "language": "python",
   "name": "python3"
  },
  "language_info": {
   "codemirror_mode": {
    "name": "ipython",
    "version": 3
   },
   "file_extension": ".py",
   "mimetype": "text/x-python",
   "name": "python",
   "nbconvert_exporter": "python",
   "pygments_lexer": "ipython3",
   "version": "3.12.4"
  }
 },
 "nbformat": 4,
 "nbformat_minor": 5
}
